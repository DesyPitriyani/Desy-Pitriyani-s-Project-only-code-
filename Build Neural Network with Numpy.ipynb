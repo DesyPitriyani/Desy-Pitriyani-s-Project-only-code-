{
 "cells": [
  {
   "cell_type": "markdown",
   "id": "2ac4c346",
   "metadata": {},
   "source": [
    "### Import relevan libraries "
   ]
  },
  {
   "cell_type": "code",
   "execution_count": 1,
   "id": "d8d3517c",
   "metadata": {},
   "outputs": [],
   "source": [
    "import numpy as np\n",
    "import matplotlib.pyplot as plt\n",
    "from mpl_toolkits.mplot3d import Axes3D"
   ]
  },
  {
   "cell_type": "markdown",
   "id": "d70976bf",
   "metadata": {},
   "source": [
    "### Generate random input data to train on"
   ]
  },
  {
   "cell_type": "code",
   "execution_count": 8,
   "id": "4ecd2c1d",
   "metadata": {},
   "outputs": [
    {
     "name": "stdout",
     "output_type": "stream",
     "text": [
      "(10000, 2)\n"
     ]
    }
   ],
   "source": [
    "#generate them randomly, drawing from an uniform distribution with 10000 observations\n",
    "obs = 10000\n",
    "xs = np.random.uniform(-10,10,(obs,1))\n",
    "zs = np.random.uniform(-10,10,(obs,1))\n",
    "inputs = np.column_stack((xs,zs))\n",
    "print(inputs.shape)"
   ]
  },
  {
   "cell_type": "markdown",
   "id": "3187704d",
   "metadata": {},
   "source": [
    "### Generate targets"
   ]
  },
  {
   "cell_type": "code",
   "execution_count": 16,
   "id": "9ad0bd5e",
   "metadata": {},
   "outputs": [
    {
     "name": "stdout",
     "output_type": "stream",
     "text": [
      "(10000, 1)\n"
     ]
    }
   ],
   "source": [
    "noise = np.random.uniform(-1,1,(obs,1))\n",
    "weights = np.random.uniform(-0.1,0.1,(2,1))\n",
    "bias = np.random.uniform(-0.1,0.1,(1))\n",
    "lr = 0.01\n",
    "targets = 13*xs - 7*zs - 12 + noise\n",
    "print(targets.shape)"
   ]
  },
  {
   "cell_type": "markdown",
   "id": "df293fc4",
   "metadata": {},
   "source": [
    "### train the model"
   ]
  },
  {
   "cell_type": "code",
   "execution_count": 17,
   "id": "7824c15f",
   "metadata": {},
   "outputs": [
    {
     "name": "stdout",
     "output_type": "stream",
     "text": [
      "3764.8255668316724\n",
      "1694.0101291656229\n",
      "782.5826127666511\n",
      "381.02267431625665\n",
      "203.69826581072408\n",
      "124.99938436487597\n",
      "89.68709139943843\n",
      "73.4689114069097\n",
      "65.66150545735458\n",
      "61.56637951382637\n",
      "59.11699340430936\n",
      "57.40427043657948\n",
      "56.02816151024251\n",
      "54.81248106227857\n",
      "53.67949906030456\n",
      "52.59478932414792\n",
      "51.54297483644702\n",
      "50.517060862912786\n",
      "49.513743725706\n",
      "48.53134756873173\n",
      "47.56891687745586\n",
      "46.62581728755878\n",
      "45.701559936022406\n",
      "44.795724126386425\n",
      "43.90792323384991\n",
      "43.03778962884034\n",
      "42.18496796654159\n",
      "41.34911215738796\n",
      "40.529883958024506\n",
      "39.726952276487125\n",
      "38.93999279299879\n",
      "38.16868772104194\n",
      "37.41272563156232\n",
      "36.671801306345436\n",
      "35.94561560560268\n",
      "35.233875343158154\n",
      "34.53629316630283\n",
      "33.85258743899987\n",
      "33.18248212783516\n",
      "32.5257066904232\n",
      "31.881995966114047\n",
      "31.251090068910468\n",
      "30.632734282531136\n",
      "30.026678957568063\n",
      "29.432679410692828\n",
      "28.850495825869356\n",
      "28.279893157532154\n",
      "27.720641035691102\n",
      "27.17251367292359\n",
      "26.635289773217252\n",
      "26.108752442625907\n",
      "25.592689101702696\n",
      "25.0868913996751\n",
      "24.591155130327394\n",
      "24.105280149556194\n",
      "23.629070294566038\n",
      "23.162333304672465\n",
      "22.704880743680416\n",
      "22.256527923806644\n",
      "21.817093831115514\n",
      "21.386401052438163\n",
      "20.964275703745137\n",
      "20.550547359944247\n",
      "20.14504898607446\n",
      "19.74761686986883\n",
      "19.358090555658745\n",
      "18.976312779592966\n",
      "18.60212940614539\n",
      "18.23538936588575\n",
      "17.875944594488125\n",
      "17.523649972952878\n",
      "17.17836326901763\n",
      "16.839945079733525\n",
      "16.50825877518416\n",
      "16.183170443323633\n",
      "15.864548835912247\n",
      "15.552265315527533\n",
      "15.246193803629168\n",
      "14.946210729657398\n",
      "14.65219498114354\n",
      "14.364027854813287\n",
      "14.081593008662463\n",
      "13.80477641498611\n",
      "13.533466314342027\n",
      "13.267553170429942\n",
      "13.00692962586847\n",
      "12.751490458851377\n",
      "12.501132540666443\n",
      "12.255754794059223\n",
      "12.015258152424861\n",
      "11.779545519811954\n",
      "11.54852173172194\n",
      "11.322093516688097\n",
      "11.10016945861912\n",
      "10.882659959891447\n",
      "10.669477205176076\n",
      "10.460535125984702\n",
      "10.255749365921226\n",
      "10.055037246624417\n",
      "9.8583177343882\n"
     ]
    }
   ],
   "source": [
    "for i in range (100):\n",
    "    outputs = np.dot(inputs,weights)+bias\n",
    "    deltas = outputs-targets\n",
    "    loss = np.sum(deltas ** 2)/2 / obs\n",
    "    print(loss)\n",
    "    deltas_scl = deltas/obs\n",
    "    weights = weights - lr * np.dot(inputs.T,deltas_scl)\n",
    "    bias = bias - lr * np.sum(deltas_scl)\n",
    "    \n"
   ]
  },
  {
   "cell_type": "code",
   "execution_count": 18,
   "id": "970d037d",
   "metadata": {},
   "outputs": [
    {
     "name": "stdout",
     "output_type": "stream",
     "text": [
      "[[13.01238132]\n",
      " [-7.00774756]] [-7.62613217]\n"
     ]
    }
   ],
   "source": [
    "print(weights, bias)"
   ]
  },
  {
   "cell_type": "markdown",
   "id": "b2df492c",
   "metadata": {},
   "source": [
    "### plot outputs and targets"
   ]
  },
  {
   "cell_type": "code",
   "execution_count": 19,
   "id": "7ff790d1",
   "metadata": {},
   "outputs": [
    {
     "data": {
      "text/plain": [
       "Text(0, 0.5, 'targets')"
      ]
     },
     "execution_count": 19,
     "metadata": {},
     "output_type": "execute_result"
    },
    {
     "data": {
      "image/png": "[encoded data removed]",
      "text/plain": [
       "<Figure size 432x288 with 1 Axes>"
      ]
     },
     "metadata": {
      "needs_background": "light"
     },
     "output_type": "display_data"
    }
   ],
   "source": [
    "plt.plot(outputs,targets)\n",
    "plt.xlabel('outputs')\n",
    "plt.ylabel('targets')\n"
   ]
  },
  {
   "cell_type": "code",
   "execution_count": null,
   "id": "097f7a48",
   "metadata": {},
   "outputs": [],
   "source": []
  }
 ],
 "metadata": {
  "kernelspec": {
   "display_name": "Python 3",
   "language": "python",
   "name": "python3"
  },
  "language_info": {
   "codemirror_mode": {
    "name": "ipython",
    "version": 3
   },
   "file_extension": ".py",
   "mimetype": "text/x-python",
   "name": "python",
   "nbconvert_exporter": "python",
   "pygments_lexer": "ipython3",
   "version": "3.9.12"
  }
 },
 "nbformat": 4,
 "nbformat_minor": 5
}
