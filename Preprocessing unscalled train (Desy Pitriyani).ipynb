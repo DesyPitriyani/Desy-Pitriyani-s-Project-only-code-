{
 "cells": [
  {
   "cell_type": "code",
   "execution_count": null,
   "id": "83128c66",
   "metadata": {},
   "outputs": [],
   "source": [
    "import pandas as pd\n",
    "import numpy as np\n",
    "import matplotlib.pylab as plt\n",
    "import seaborn as sns"
   ]
  },
  {
   "cell_type": "code",
   "execution_count": null,
   "id": "cf8ce566",
   "metadata": {
    "scrolled": false
   },
   "outputs": [],
   "source": [
    "raw = pd.read_csv('application_train.csv')\n",
    "pd.set_option('display.max_columns', None)\n",
    "raw"
   ]
  },
  {
   "cell_type": "code",
   "execution_count": null,
   "id": "a7a6655d",
   "metadata": {},
   "outputs": [],
   "source": [
    "col_to_drop = [\n",
    "    'NAME_CONTRACT_TYPE','AMT_CREDIT', 'AMT_ANNUITY', 'AMT_GOODS_PRICE','REGION_POPULATION_RELATIVE','DAYS_EMPLOYED', 'DAYS_REGISTRATION',\n",
    "    'DAYS_ID_PUBLISH', 'OWN_CAR_AGE','REGION_POPULATION_RELATIVE', 'WEEKDAY_APPR_PROCESS_START','HOUR_APPR_PROCESS_START', 'REG_REGION_NOT_LIVE_REGION', 'REG_REGION_NOT_WORK_REGION', 'LIVE_REGION_NOT_WORK_REGION', 'REG_CITY_NOT_LIVE_CITY', 'REG_CITY_NOT_WORK_CITY', 'LIVE_CITY_NOT_WORK_CITY','ORGANIZATION_TYPE','EXT_SOURCE_1','EXT_SOURCE_2', 'EXT_SOURCE_3', 'APARTMENTS_AVG','BASEMENTAREA_AVG', 'YEARS_BEGINEXPLUATATION_AVG',\n",
    "    'YEARS_BUILD_AVG', 'COMMONAREA_AVG', 'ELEVATORS_AVG',\n",
    "    'ENTRANCES_AVG', 'FLOORSMAX_AVG', 'FLOORSMIN_AVG', 'LANDAREA_AVG',\n",
    "    'LIVINGAPARTMENTS_AVG', 'LIVINGAREA_AVG',\n",
    "    'NONLIVINGAPARTMENTS_AVG', 'NONLIVINGAREA_AVG', 'APARTMENTS_MODE',\n",
    "    'BASEMENTAREA_MODE', 'YEARS_BEGINEXPLUATATION_MODE',\n",
    "    'YEARS_BUILD_MODE', 'COMMONAREA_MODE', 'ELEVATORS_MODE',\n",
    "    'ENTRANCES_MODE', 'FLOORSMAX_MODE', 'FLOORSMIN_MODE',\n",
    "    'LANDAREA_MODE', 'LIVINGAPARTMENTS_MODE', 'LIVINGAREA_MODE',\n",
    "    'NONLIVINGAPARTMENTS_MODE', 'NONLIVINGAREA_MODE',\n",
    "    'APARTMENTS_MEDI', 'BASEMENTAREA_MEDI',\n",
    "    'YEARS_BEGINEXPLUATATION_MEDI', 'YEARS_BUILD_MEDI',\n",
    "    'COMMONAREA_MEDI', 'ELEVATORS_MEDI', 'ENTRANCES_MEDI',\n",
    "    'FLOORSMAX_MEDI', 'FLOORSMIN_MEDI', 'LANDAREA_MEDI',\n",
    "    'LIVINGAPARTMENTS_MEDI', 'LIVINGAREA_MEDI',\n",
    "    'NONLIVINGAPARTMENTS_MEDI', 'NONLIVINGAREA_MEDI',\n",
    "    'FONDKAPREMONT_MODE', 'HOUSETYPE_MODE', 'TOTALAREA_MODE',\n",
    "    'WALLSMATERIAL_MODE', 'EMERGENCYSTATE_MODE', 'OBS_30_CNT_SOCIAL_CIRCLE', 'DEF_30_CNT_SOCIAL_CIRCLE',\n",
    "    'OBS_60_CNT_SOCIAL_CIRCLE', 'DEF_60_CNT_SOCIAL_CIRCLE',\n",
    "    'DAYS_LAST_PHONE_CHANGE', 'FLAG_DOCUMENT_2', 'FLAG_DOCUMENT_3',\n",
    "    'FLAG_DOCUMENT_4', 'FLAG_DOCUMENT_5', 'FLAG_DOCUMENT_6',\n",
    "    'FLAG_DOCUMENT_7', 'FLAG_DOCUMENT_8', 'FLAG_DOCUMENT_9',\n",
    "    'FLAG_DOCUMENT_10', 'FLAG_DOCUMENT_11', 'FLAG_DOCUMENT_12',\n",
    "    'FLAG_DOCUMENT_13', 'FLAG_DOCUMENT_14', 'FLAG_DOCUMENT_15',\n",
    "    'FLAG_DOCUMENT_16', 'FLAG_DOCUMENT_17', 'FLAG_DOCUMENT_18',\n",
    "    'FLAG_DOCUMENT_19', 'FLAG_DOCUMENT_20', 'FLAG_DOCUMENT_21',\n",
    "    'AMT_REQ_CREDIT_BUREAU_HOUR', 'AMT_REQ_CREDIT_BUREAU_DAY', 'AMT_REQ_CREDIT_BUREAU_WEEK','AMT_REQ_CREDIT_BUREAU_MON', 'AMT_REQ_CREDIT_BUREAU_QRT', 'AMT_REQ_CREDIT_BUREAU_YEAR',\n",
    "    'REGION_RATING_CLIENT', 'REGION_RATING_CLIENT_W_CITY'\n",
    "]"
   ]
  },
  {
   "cell_type": "code",
   "execution_count": null,
   "id": "5eab1024",
   "metadata": {},
   "outputs": [],
   "source": [
    "raw_drop = raw.drop(col_to_drop, axis=1)"
   ]
  },
  {
   "cell_type": "code",
   "execution_count": null,
   "id": "95b6f489",
   "metadata": {},
   "outputs": [],
   "source": [
    "raw_drop.info()"
   ]
  },
  {
   "cell_type": "code",
   "execution_count": null,
   "id": "d90a6614",
   "metadata": {},
   "outputs": [],
   "source": [
    "bureau_id = pd.read_csv('bureau.csv')\n",
    "pd.set_option('display.max_columns', None)"
   ]
  },
  {
   "cell_type": "code",
   "execution_count": null,
   "id": "e83db5f2",
   "metadata": {},
   "outputs": [],
   "source": [
    "raw_bureau_id = pd.merge(raw_drop,bureau_id['SK_ID_BUREAU'], left_index=True, right_index=True, how='inner')\n",
    "#result = pd.merge(left, right, left_index=True, right_index=True, how=\"inner\")"
   ]
  },
  {
   "cell_type": "code",
   "execution_count": null,
   "id": "da068527",
   "metadata": {},
   "outputs": [],
   "source": [
    "bureau_balance = pd.read_csv('bureau_balance.csv')\n",
    "pd.set_option('display.max_columns', None)"
   ]
  },
  {
   "cell_type": "code",
   "execution_count": null,
   "id": "29d3e46d",
   "metadata": {},
   "outputs": [],
   "source": [
    "bureau_balance['STATUS'].replace({'C': 6, 'X' : 7}, inplace=True)\n",
    "bureau_balance['STATUS'] = bureau_balance['STATUS'].astype(int)"
   ]
  },
  {
   "cell_type": "code",
   "execution_count": null,
   "id": "10587fc0",
   "metadata": {},
   "outputs": [],
   "source": [
    "raw_bureau_balance = pd.merge(raw_bureau_id,bureau_balance[['MONTHS_BALANCE','STATUS']], left_index=True, right_index=True, how='inner')"
   ]
  },
  {
   "cell_type": "code",
   "execution_count": null,
   "id": "5f977b1a",
   "metadata": {
    "scrolled": true
   },
   "outputs": [],
   "source": [
    "raw_bureau_balance.info(verbose = True, show_counts = True)"
   ]
  },
  {
   "cell_type": "code",
   "execution_count": null,
   "id": "3f865c41",
   "metadata": {},
   "outputs": [],
   "source": [
    "fig, ax = plt.subplots(figsize=(10,5))\n",
    "sns.countplot(x=raw.TARGET)\n",
    "plt.title('Frequency of Target')\n",
    "plt.show()"
   ]
  },
  {
   "cell_type": "code",
   "execution_count": null,
   "id": "60585a33",
   "metadata": {},
   "outputs": [],
   "source": [
    "raw_bureau_balance = raw_bureau_balance.drop(['SK_ID_CURR', 'SK_ID_BUREAU'], axis=1)"
   ]
  },
  {
   "cell_type": "code",
   "execution_count": null,
   "id": "5490765d",
   "metadata": {},
   "outputs": [],
   "source": [
    "raw_bureau_balance['Age'] = abs((raw_bureau_balance['DAYS_BIRTH']/365))\n",
    "raw_bureau_balance['Age'] = raw_bureau_balance['Age'].apply(np.floor)"
   ]
  },
  {
   "cell_type": "code",
   "execution_count": null,
   "id": "80c67a4c",
   "metadata": {},
   "outputs": [],
   "source": [
    "raw_bureau_balance.CODE_GENDER.value_counts()"
   ]
  },
  {
   "cell_type": "code",
   "execution_count": null,
   "id": "13522be4",
   "metadata": {},
   "outputs": [],
   "source": [
    "raw_bureau_balance = raw_bureau_balance.replace('XNA',)"
   ]
  },
  {
   "cell_type": "code",
   "execution_count": null,
   "id": "24812fc8",
   "metadata": {},
   "outputs": [],
   "source": [
    "raw_bureau_balance.CODE_GENDER.value_counts()"
   ]
  },
  {
   "cell_type": "code",
   "execution_count": null,
   "id": "776fac1c",
   "metadata": {
    "scrolled": true
   },
   "outputs": [],
   "source": [
    "raw_bureau_balance = pd.get_dummies(raw_bureau_balance, columns=['CODE_GENDER', 'FLAG_OWN_CAR', 'FLAG_OWN_REALTY'], drop_first = True)"
   ]
  },
  {
   "cell_type": "code",
   "execution_count": null,
   "id": "c9acb381",
   "metadata": {
    "scrolled": false
   },
   "outputs": [],
   "source": [
    "raw_train = raw_bureau_balance.copy()"
   ]
  },
  {
   "cell_type": "code",
   "execution_count": null,
   "id": "35a97d50",
   "metadata": {},
   "outputs": [],
   "source": [
    "raw_train.columns.values"
   ]
  },
  {
   "cell_type": "code",
   "execution_count": null,
   "id": "501c5f06",
   "metadata": {},
   "outputs": [],
   "source": [
    "raw_train.isnull().sum()"
   ]
  },
  {
   "cell_type": "code",
   "execution_count": null,
   "id": "2a4453bc",
   "metadata": {},
   "outputs": [],
   "source": [
    "raw_train['OCCUPATION_TYPE'].fillna('others',inplace=True)"
   ]
  },
  {
   "cell_type": "code",
   "execution_count": null,
   "id": "e2f14a9a",
   "metadata": {},
   "outputs": [],
   "source": [
    "raw_train['NAME_TYPE_SUITE'].fillna('others',inplace=True)"
   ]
  },
  {
   "cell_type": "code",
   "execution_count": null,
   "id": "ea136f4f",
   "metadata": {},
   "outputs": [],
   "source": [
    "raw_train['CNT_FAM_MEMBERS'].fillna(0,inplace=True)"
   ]
  },
  {
   "cell_type": "code",
   "execution_count": null,
   "id": "b0ff9ecb",
   "metadata": {},
   "outputs": [],
   "source": [
    "raw_train.isna().sum()"
   ]
  },
  {
   "cell_type": "code",
   "execution_count": null,
   "id": "86e392df",
   "metadata": {},
   "outputs": [],
   "source": [
    "raw_train = pd.get_dummies(raw_train, columns=['NAME_TYPE_SUITE','NAME_INCOME_TYPE', 'NAME_EDUCATION_TYPE', 'NAME_FAMILY_STATUS', 'NAME_HOUSING_TYPE','OCCUPATION_TYPE'], drop_first=True)\n"
   ]
  },
  {
   "cell_type": "code",
   "execution_count": null,
   "id": "a09d6966",
   "metadata": {},
   "outputs": [],
   "source": [
    "raw_train = raw_train.drop(['DAYS_BIRTH'], axis=1)"
   ]
  },
  {
   "cell_type": "code",
   "execution_count": null,
   "id": "7e02a88e",
   "metadata": {},
   "outputs": [],
   "source": [
    "raw_train"
   ]
  },
  {
   "cell_type": "code",
   "execution_count": null,
   "id": "58cb9471",
   "metadata": {},
   "outputs": [],
   "source": [
    "train_unscl = raw_train.copy()"
   ]
  },
  {
   "cell_type": "code",
   "execution_count": null,
   "id": "a02b7406",
   "metadata": {},
   "outputs": [],
   "source": [
    "train_unscl.to_csv('train_unscaled.csv')"
   ]
  },
  {
   "cell_type": "code",
   "execution_count": null,
   "id": "93aeda23",
   "metadata": {},
   "outputs": [],
   "source": []
  }
 ],
 "metadata": {
  "kernelspec": {
   "display_name": "Python 3",
   "language": "python",
   "name": "python3"
  },
  "language_info": {
   "codemirror_mode": {
    "name": "ipython",
    "version": 3
   },
   "file_extension": ".py",
   "mimetype": "text/x-python",
   "name": "python",
   "nbconvert_exporter": "python",
   "pygments_lexer": "ipython3",
   "version": "3.9.12"
  }
 },
 "nbformat": 4,
 "nbformat_minor": 5
}
