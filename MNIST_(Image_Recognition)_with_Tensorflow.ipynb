{
  "nbformat": 4,
  "nbformat_minor": 0,
  "metadata": {
    "colab": {
      "provenance": []
    },
    "kernelspec": {
      "name": "python3",
      "display_name": "Python 3"
    },
    "language_info": {
      "name": "python"
    }
  },
  "cells": [
    {
      "cell_type": "code",
      "execution_count": null,
      "metadata": {
        "id": "syiVmcito9cc"
      },
      "outputs": [],
      "source": [
        "import numpy as np\n",
        "import tensorflow as tf\n",
        "import tensorflow_datasets as tfds"
      ]
    },
    {
      "cell_type": "code",
      "source": [
        "mnist, mnist_info = tfds.load(name='mnist', with_info='True', as_supervised='True')"
      ],
      "metadata": {
        "id": "4NauAr_fq-Kn"
      },
      "execution_count": null,
      "outputs": []
    },
    {
      "cell_type": "code",
      "source": [
        "mnist_train , mnist_test = mnist['train'] , mnist['test'] "
      ],
      "metadata": {
        "id": "KP0Rl5i-rWFT"
      },
      "execution_count": null,
      "outputs": []
    },
    {
      "cell_type": "code",
      "source": [
        "num_val = 0.1 * mnist_info.splits['train'].num_examples\n",
        "num_val = tf.cast(num_val, tf.int64)\n",
        "num_test = mnist_info.splits['test'].num_examples\n",
        "num_test = tf.cast(num_test, tf.int64)"
      ],
      "metadata": {
        "id": "w3uEl68Krzkv"
      },
      "execution_count": null,
      "outputs": []
    },
    {
      "cell_type": "code",
      "source": [
        "def scale(image, label):\n",
        "  image = tf.cast(image, tf.float32)\n",
        "  image /= 255\n",
        "  return image, label "
      ],
      "metadata": {
        "id": "PAeMjJ7_tlGD"
      },
      "execution_count": null,
      "outputs": []
    },
    {
      "cell_type": "code",
      "source": [
        "scaled_train_val = mnist_train.map(scale)\n",
        "test_data = mnist_test.map(scale)\n"
      ],
      "metadata": {
        "id": "NsBx0RevvjwR"
      },
      "execution_count": null,
      "outputs": []
    },
    {
      "cell_type": "code",
      "source": [
        "buffer_size = 10000\n",
        "shuffled_train_val = scaled_train_val.shuffle(buffer_size)\n",
        "\n",
        "val_data = shuffled_train_val.take(num_val)\n",
        "train_data = shuffled_train_val.skip(num_val)\n",
        "\n"
      ],
      "metadata": {
        "id": "7NjRXX6gyV8d"
      },
      "execution_count": null,
      "outputs": []
    },
    {
      "cell_type": "code",
      "source": [
        "batch_size = 100\n",
        "train_data = train_data.batch(batch_size)\n",
        "val_data = val_data.batch(num_val)\n",
        "test_data = test_data.batch(num_test)"
      ],
      "metadata": {
        "id": "LwP7-XH6z0KT"
      },
      "execution_count": null,
      "outputs": []
    },
    {
      "cell_type": "code",
      "source": [
        "val_input, val_target = next(iter(val_data))"
      ],
      "metadata": {
        "id": "QnvbzXsy4inG"
      },
      "execution_count": null,
      "outputs": []
    },
    {
      "cell_type": "code",
      "source": [
        "input_size = 784\n",
        "output_size = 10\n",
        "hidden_layer = 70\n",
        "model = tf.keras.Sequential([\n",
        "    tf.keras.layers.Flatten(input_shape=(28,28,1)),\n",
        "\n",
        "    tf.keras.layers.Dense(hidden_layer, activation='relu'),\n",
        "    tf.keras.layers.Dense(hidden_layer, activation='relu'),\n",
        "    tf.keras.layers.Dense(hidden_layer, activation='tanh'),\n",
        "    tf.keras.layers.Dense(hidden_layer, activation='tanh'),\n",
        "    tf.keras.layers.Dense(hidden_layer, activation='tanh'),\n",
        "   \n",
        "    tf.keras.layers.Dense(output_size, activation='softmax')\n",
        "\n",
        "])\n",
        "custom = tf.keras.optimizers.Adam(learning_rate=0.001)\n",
        "model.compile(optimizer=custom, loss='sparse_categorical_crossentropy', metrics=['accuracy'])"
      ],
      "metadata": {
        "id": "brRj0hr95foO"
      },
      "execution_count": null,
      "outputs": []
    },
    {
      "cell_type": "code",
      "source": [
        "epoch = 5\n",
        "#early_stop = tf.keras.callbacks.EarlyStopping()\n",
        "model.fit(train_data, epochs=epoch, validation_data=(val_input, val_target), verbose=2)"
      ],
      "metadata": {
        "colab": {
          "base_uri": "https://localhost:8080/"
        },
        "id": "M2pNQmgqHtzQ",
        "outputId": "2b32670a-5d0a-47a8-e323-c92509f52b9b"
      },
      "execution_count": null,
      "outputs": [
        {
          "output_type": "stream",
          "name": "stdout",
          "text": [
            "Epoch 1/5\n",
            "540/540 - 5s - loss: 0.3126 - accuracy: 0.9071 - val_loss: 0.1367 - val_accuracy: 0.9598 - 5s/epoch - 10ms/step\n",
            "Epoch 2/5\n",
            "540/540 - 5s - loss: 0.1170 - accuracy: 0.9644 - val_loss: 0.1495 - val_accuracy: 0.9557 - 5s/epoch - 9ms/step\n",
            "Epoch 3/5\n",
            "540/540 - 5s - loss: 0.0868 - accuracy: 0.9731 - val_loss: 0.0846 - val_accuracy: 0.9757 - 5s/epoch - 9ms/step\n",
            "Epoch 4/5\n",
            "540/540 - 5s - loss: 0.0707 - accuracy: 0.9785 - val_loss: 0.0816 - val_accuracy: 0.9772 - 5s/epoch - 9ms/step\n",
            "Epoch 5/5\n",
            "540/540 - 5s - loss: 0.0607 - accuracy: 0.9810 - val_loss: 0.0586 - val_accuracy: 0.9835 - 5s/epoch - 8ms/step\n"
          ]
        },
        {
          "output_type": "execute_result",
          "data": {
            "text/plain": [
              "<keras.callbacks.History at 0x7f6c67887dd0>"
            ]
          },
          "metadata": {},
          "execution_count": 80
        }
      ]
    },
    {
      "cell_type": "code",
      "source": [
        "test_loss, test_accuracy = model.evaluate(test_data)"
      ],
      "metadata": {
        "colab": {
          "base_uri": "https://localhost:8080/"
        },
        "id": "IGNwaCF2J0s1",
        "outputId": "8401f21d-51e6-4506-c72a-f25922318323"
      },
      "execution_count": null,
      "outputs": [
        {
          "output_type": "stream",
          "name": "stdout",
          "text": [
            "1/1 [==============================] - 1s 908ms/step - loss: 0.0917 - accuracy: 0.9755\n"
          ]
        }
      ]
    },
    {
      "cell_type": "code",
      "source": [],
      "metadata": {
        "id": "EujleclaKLhf"
      },
      "execution_count": null,
      "outputs": []
    }
  ]
}