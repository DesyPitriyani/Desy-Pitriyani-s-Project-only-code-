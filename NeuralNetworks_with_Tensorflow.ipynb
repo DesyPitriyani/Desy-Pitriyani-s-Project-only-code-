{
  "nbformat": 4,
  "nbformat_minor": 0,
  "metadata": {
    "colab": {
      "provenance": []
    },
    "kernelspec": {
      "name": "python3",
      "display_name": "Python 3"
    },
    "language_info": {
      "name": "python"
    }
  },
  "cells": [
    {
      "cell_type": "code",
      "execution_count": null,
      "metadata": {
        "id": "laZq4H9NF0QQ"
      },
      "outputs": [],
      "source": [
        "import numpy as np\n",
        "import tensorflow as tf\n",
        "import matplotlib.pyplot as plt"
      ]
    },
    {
      "cell_type": "code",
      "source": [
        "obs = 100000\n",
        "xs = np.random.uniform(-10,10,size=(obs,1))\n",
        "zs = np.random.uniform(-10,10,(obs,1))\n",
        "generated_inputs = np.column_stack((xs,zs))\n",
        "noise = np.random.uniform(-1,1,(obs,1))\n",
        "generated_target = 2*xs -3*zs + 5 + noise\n",
        "np.savez('TF_intro', input = generated_inputs, target = generated_target)\n"
      ],
      "metadata": {
        "id": "dyKVZZV1GAsV"
      },
      "execution_count": null,
      "outputs": []
    },
    {
      "cell_type": "code",
      "source": [
        "train = np.load('TF_intro.npz')"
      ],
      "metadata": {
        "id": "FGRHeLb1GzyP"
      },
      "execution_count": null,
      "outputs": []
    },
    {
      "cell_type": "code",
      "source": [
        "input_size = 2\n",
        "output_size = 1\n",
        "model = tf.keras.Sequential([tf.keras.layers.Dense(output_size,\n",
        "                                                   kernel_initializer=tf.random_uniform_initializer(minval=-0.1, maxval=0.1),\n",
        "                                                   bias_initializer=tf.random_uniform_initializer(minval=-0.1, maxval=0.1)\n",
        ")\n",
        "])"
      ],
      "metadata": {
        "id": "gfWiFEfaHSop"
      },
      "execution_count": null,
      "outputs": []
    },
    {
      "cell_type": "code",
      "source": [
        "custom_optimizer = tf.keras.optimizers.SGD(learning_rate=0.02)\n",
        "model.compile(optimizer=custom_optimizer, loss='mean_squared_error')\n",
        "model.fit(train['input'], train['target'], epochs=100, verbose=2)"
      ],
      "metadata": {
        "colab": {
          "base_uri": "https://localhost:8080/"
        },
        "id": "8xRF9S25I-9_",
        "outputId": "31533331-4058-40ff-ce59-117b08b56e0a"
      },
      "execution_count": null,
      "outputs": [
        {
          "output_type": "stream",
          "name": "stdout",
          "text": [
            "Epoch 1/100\n",
            "3125/3125 - 4s - loss: 0.6832 - 4s/epoch - 1ms/step\n",
            "Epoch 2/100\n",
            "3125/3125 - 3s - loss: 0.3786 - 3s/epoch - 1ms/step\n",
            "Epoch 3/100\n",
            "3125/3125 - 3s - loss: 0.3808 - 3s/epoch - 1ms/step\n",
            "Epoch 4/100\n",
            "3125/3125 - 4s - loss: 0.3828 - 4s/epoch - 1ms/step\n",
            "Epoch 5/100\n",
            "3125/3125 - 4s - loss: 0.3807 - 4s/epoch - 1ms/step\n",
            "Epoch 6/100\n",
            "3125/3125 - 3s - loss: 0.3822 - 3s/epoch - 1ms/step\n",
            "Epoch 7/100\n",
            "3125/3125 - 3s - loss: 0.3796 - 3s/epoch - 1ms/step\n",
            "Epoch 8/100\n",
            "3125/3125 - 3s - loss: 0.3791 - 3s/epoch - 1ms/step\n",
            "Epoch 9/100\n",
            "3125/3125 - 3s - loss: 0.3798 - 3s/epoch - 1ms/step\n",
            "Epoch 10/100\n",
            "3125/3125 - 3s - loss: 0.3783 - 3s/epoch - 1ms/step\n",
            "Epoch 11/100\n",
            "3125/3125 - 3s - loss: 0.3788 - 3s/epoch - 1ms/step\n",
            "Epoch 12/100\n",
            "3125/3125 - 4s - loss: 0.3831 - 4s/epoch - 1ms/step\n",
            "Epoch 13/100\n",
            "3125/3125 - 4s - loss: 0.3798 - 4s/epoch - 1ms/step\n",
            "Epoch 14/100\n",
            "3125/3125 - 5s - loss: 0.3811 - 5s/epoch - 2ms/step\n",
            "Epoch 15/100\n",
            "3125/3125 - 4s - loss: 0.3829 - 4s/epoch - 1ms/step\n",
            "Epoch 16/100\n",
            "3125/3125 - 5s - loss: 0.3773 - 5s/epoch - 2ms/step\n",
            "Epoch 17/100\n",
            "3125/3125 - 3s - loss: 0.3797 - 3s/epoch - 1ms/step\n",
            "Epoch 18/100\n",
            "3125/3125 - 3s - loss: 0.3808 - 3s/epoch - 1ms/step\n",
            "Epoch 19/100\n",
            "3125/3125 - 3s - loss: 0.3792 - 3s/epoch - 1ms/step\n",
            "Epoch 20/100\n",
            "3125/3125 - 3s - loss: 0.3780 - 3s/epoch - 1ms/step\n",
            "Epoch 21/100\n",
            "3125/3125 - 3s - loss: 0.3781 - 3s/epoch - 1ms/step\n",
            "Epoch 22/100\n",
            "3125/3125 - 3s - loss: 0.3802 - 3s/epoch - 1ms/step\n",
            "Epoch 23/100\n",
            "3125/3125 - 3s - loss: 0.3851 - 3s/epoch - 1ms/step\n",
            "Epoch 24/100\n",
            "3125/3125 - 3s - loss: 0.3803 - 3s/epoch - 1ms/step\n",
            "Epoch 25/100\n",
            "3125/3125 - 4s - loss: 0.3794 - 4s/epoch - 1ms/step\n",
            "Epoch 26/100\n",
            "3125/3125 - 4s - loss: 0.3812 - 4s/epoch - 1ms/step\n",
            "Epoch 27/100\n",
            "3125/3125 - 5s - loss: 0.3809 - 5s/epoch - 1ms/step\n",
            "Epoch 28/100\n",
            "3125/3125 - 3s - loss: 0.3786 - 3s/epoch - 1ms/step\n",
            "Epoch 29/100\n",
            "3125/3125 - 3s - loss: 0.3813 - 3s/epoch - 1ms/step\n",
            "Epoch 30/100\n",
            "3125/3125 - 3s - loss: 0.3828 - 3s/epoch - 1ms/step\n",
            "Epoch 31/100\n",
            "3125/3125 - 3s - loss: 0.3791 - 3s/epoch - 1ms/step\n",
            "Epoch 32/100\n",
            "3125/3125 - 3s - loss: 0.3795 - 3s/epoch - 1ms/step\n",
            "Epoch 33/100\n",
            "3125/3125 - 3s - loss: 0.3817 - 3s/epoch - 1ms/step\n",
            "Epoch 34/100\n",
            "3125/3125 - 3s - loss: 0.3804 - 3s/epoch - 1ms/step\n",
            "Epoch 35/100\n",
            "3125/3125 - 3s - loss: 0.3805 - 3s/epoch - 1ms/step\n",
            "Epoch 36/100\n",
            "3125/3125 - 3s - loss: 0.3811 - 3s/epoch - 1ms/step\n",
            "Epoch 37/100\n",
            "3125/3125 - 3s - loss: 0.3781 - 3s/epoch - 1ms/step\n",
            "Epoch 38/100\n",
            "3125/3125 - 3s - loss: 0.3830 - 3s/epoch - 1ms/step\n",
            "Epoch 39/100\n",
            "3125/3125 - 3s - loss: 0.3776 - 3s/epoch - 1ms/step\n",
            "Epoch 40/100\n",
            "3125/3125 - 3s - loss: 0.3821 - 3s/epoch - 1ms/step\n",
            "Epoch 41/100\n",
            "3125/3125 - 3s - loss: 0.3768 - 3s/epoch - 1ms/step\n",
            "Epoch 42/100\n",
            "3125/3125 - 3s - loss: 0.3784 - 3s/epoch - 1ms/step\n",
            "Epoch 43/100\n",
            "3125/3125 - 5s - loss: 0.3800 - 5s/epoch - 1ms/step\n",
            "Epoch 44/100\n",
            "3125/3125 - 3s - loss: 0.3814 - 3s/epoch - 1ms/step\n",
            "Epoch 45/100\n",
            "3125/3125 - 3s - loss: 0.3801 - 3s/epoch - 1ms/step\n",
            "Epoch 46/100\n",
            "3125/3125 - 3s - loss: 0.3821 - 3s/epoch - 1ms/step\n",
            "Epoch 47/100\n",
            "3125/3125 - 4s - loss: 0.3783 - 4s/epoch - 1ms/step\n",
            "Epoch 48/100\n",
            "3125/3125 - 4s - loss: 0.3825 - 4s/epoch - 1ms/step\n",
            "Epoch 49/100\n",
            "3125/3125 - 3s - loss: 0.3799 - 3s/epoch - 1ms/step\n",
            "Epoch 50/100\n",
            "3125/3125 - 3s - loss: 0.3794 - 3s/epoch - 1ms/step\n",
            "Epoch 51/100\n",
            "3125/3125 - 3s - loss: 0.3797 - 3s/epoch - 1ms/step\n",
            "Epoch 52/100\n",
            "3125/3125 - 3s - loss: 0.3786 - 3s/epoch - 1ms/step\n",
            "Epoch 53/100\n",
            "3125/3125 - 3s - loss: 0.3795 - 3s/epoch - 1ms/step\n",
            "Epoch 54/100\n",
            "3125/3125 - 3s - loss: 0.3778 - 3s/epoch - 1ms/step\n",
            "Epoch 55/100\n",
            "3125/3125 - 3s - loss: 0.3801 - 3s/epoch - 1ms/step\n",
            "Epoch 56/100\n",
            "3125/3125 - 3s - loss: 0.3779 - 3s/epoch - 1ms/step\n",
            "Epoch 57/100\n",
            "3125/3125 - 3s - loss: 0.3772 - 3s/epoch - 1ms/step\n",
            "Epoch 58/100\n",
            "3125/3125 - 4s - loss: 0.3833 - 4s/epoch - 1ms/step\n",
            "Epoch 59/100\n",
            "3125/3125 - 4s - loss: 0.3807 - 4s/epoch - 1ms/step\n",
            "Epoch 60/100\n",
            "3125/3125 - 3s - loss: 0.3807 - 3s/epoch - 1ms/step\n",
            "Epoch 61/100\n",
            "3125/3125 - 3s - loss: 0.3816 - 3s/epoch - 1ms/step\n",
            "Epoch 62/100\n",
            "3125/3125 - 3s - loss: 0.3805 - 3s/epoch - 1ms/step\n",
            "Epoch 63/100\n",
            "3125/3125 - 3s - loss: 0.3804 - 3s/epoch - 1ms/step\n",
            "Epoch 64/100\n",
            "3125/3125 - 3s - loss: 0.3770 - 3s/epoch - 1ms/step\n",
            "Epoch 65/100\n",
            "3125/3125 - 3s - loss: 0.3819 - 3s/epoch - 1ms/step\n",
            "Epoch 66/100\n",
            "3125/3125 - 3s - loss: 0.3781 - 3s/epoch - 1ms/step\n",
            "Epoch 67/100\n",
            "3125/3125 - 3s - loss: 0.3806 - 3s/epoch - 1ms/step\n",
            "Epoch 68/100\n",
            "3125/3125 - 3s - loss: 0.3788 - 3s/epoch - 1ms/step\n",
            "Epoch 69/100\n",
            "3125/3125 - 3s - loss: 0.3817 - 3s/epoch - 1ms/step\n",
            "Epoch 70/100\n",
            "3125/3125 - 3s - loss: 0.3807 - 3s/epoch - 1ms/step\n",
            "Epoch 71/100\n",
            "3125/3125 - 3s - loss: 0.3807 - 3s/epoch - 1ms/step\n",
            "Epoch 72/100\n",
            "3125/3125 - 3s - loss: 0.3811 - 3s/epoch - 1ms/step\n",
            "Epoch 73/100\n",
            "3125/3125 - 3s - loss: 0.3768 - 3s/epoch - 1ms/step\n",
            "Epoch 74/100\n",
            "3125/3125 - 4s - loss: 0.3803 - 4s/epoch - 1ms/step\n",
            "Epoch 75/100\n",
            "3125/3125 - 4s - loss: 0.3810 - 4s/epoch - 1ms/step\n",
            "Epoch 76/100\n",
            "3125/3125 - 3s - loss: 0.3815 - 3s/epoch - 1ms/step\n",
            "Epoch 77/100\n",
            "3125/3125 - 3s - loss: 0.3784 - 3s/epoch - 1ms/step\n",
            "Epoch 78/100\n",
            "3125/3125 - 3s - loss: 0.3807 - 3s/epoch - 1ms/step\n",
            "Epoch 79/100\n",
            "3125/3125 - 3s - loss: 0.3770 - 3s/epoch - 1ms/step\n",
            "Epoch 80/100\n",
            "3125/3125 - 3s - loss: 0.3826 - 3s/epoch - 1ms/step\n",
            "Epoch 81/100\n",
            "3125/3125 - 3s - loss: 0.3790 - 3s/epoch - 1ms/step\n",
            "Epoch 82/100\n",
            "3125/3125 - 3s - loss: 0.3778 - 3s/epoch - 1ms/step\n",
            "Epoch 83/100\n",
            "3125/3125 - 3s - loss: 0.3780 - 3s/epoch - 1ms/step\n",
            "Epoch 84/100\n",
            "3125/3125 - 3s - loss: 0.3802 - 3s/epoch - 1ms/step\n",
            "Epoch 85/100\n",
            "3125/3125 - 3s - loss: 0.3764 - 3s/epoch - 1ms/step\n",
            "Epoch 86/100\n",
            "3125/3125 - 3s - loss: 0.3788 - 3s/epoch - 1ms/step\n",
            "Epoch 87/100\n",
            "3125/3125 - 3s - loss: 0.3813 - 3s/epoch - 1ms/step\n",
            "Epoch 88/100\n",
            "3125/3125 - 3s - loss: 0.3774 - 3s/epoch - 1ms/step\n",
            "Epoch 89/100\n",
            "3125/3125 - 3s - loss: 0.3805 - 3s/epoch - 1ms/step\n",
            "Epoch 90/100\n",
            "3125/3125 - 4s - loss: 0.3800 - 4s/epoch - 1ms/step\n",
            "Epoch 91/100\n",
            "3125/3125 - 4s - loss: 0.3810 - 4s/epoch - 1ms/step\n",
            "Epoch 92/100\n",
            "3125/3125 - 3s - loss: 0.3772 - 3s/epoch - 1ms/step\n",
            "Epoch 93/100\n",
            "3125/3125 - 3s - loss: 0.3791 - 3s/epoch - 1ms/step\n",
            "Epoch 94/100\n",
            "3125/3125 - 3s - loss: 0.3787 - 3s/epoch - 1ms/step\n",
            "Epoch 95/100\n",
            "3125/3125 - 3s - loss: 0.3805 - 3s/epoch - 1ms/step\n",
            "Epoch 96/100\n",
            "3125/3125 - 3s - loss: 0.3807 - 3s/epoch - 1ms/step\n",
            "Epoch 97/100\n",
            "3125/3125 - 3s - loss: 0.3806 - 3s/epoch - 1ms/step\n",
            "Epoch 98/100\n",
            "3125/3125 - 3s - loss: 0.3810 - 3s/epoch - 1ms/step\n",
            "Epoch 99/100\n",
            "3125/3125 - 3s - loss: 0.3783 - 3s/epoch - 1ms/step\n",
            "Epoch 100/100\n",
            "3125/3125 - 3s - loss: 0.3831 - 3s/epoch - 1ms/step\n"
          ]
        },
        {
          "output_type": "execute_result",
          "data": {
            "text/plain": [
              "<keras.callbacks.History at 0x7fb68941e210>"
            ]
          },
          "metadata": {},
          "execution_count": 71
        }
      ]
    },
    {
      "cell_type": "code",
      "source": [
        "model.layers[0].get_weights()"
      ],
      "metadata": {
        "colab": {
          "base_uri": "https://localhost:8080/"
        },
        "id": "W6y9z-9uLMDQ",
        "outputId": "19c55ad1-f1af-4456-d52d-b5da0447c66b"
      },
      "execution_count": null,
      "outputs": [
        {
          "output_type": "execute_result",
          "data": {
            "text/plain": [
              "[array([[ 2.0125282],\n",
              "        [-3.040437 ]], dtype=float32), array([4.99828], dtype=float32)]"
            ]
          },
          "metadata": {},
          "execution_count": 72
        }
      ]
    },
    {
      "cell_type": "code",
      "source": [
        "model.predict_on_batch(train['input']).round(1)"
      ],
      "metadata": {
        "colab": {
          "base_uri": "https://localhost:8080/"
        },
        "id": "oB3J3zD4MKWR",
        "outputId": "3d1b8194-c84f-4524-d136-cb595c10cb37"
      },
      "execution_count": null,
      "outputs": [
        {
          "output_type": "execute_result",
          "data": {
            "text/plain": [
              "array([[ 2.6],\n",
              "       [39.2],\n",
              "       [ 5.3],\n",
              "       ...,\n",
              "       [-6.6],\n",
              "       [16.7],\n",
              "       [ 1.7]], dtype=float32)"
            ]
          },
          "metadata": {},
          "execution_count": 73
        }
      ]
    },
    {
      "cell_type": "code",
      "source": [
        "train['target'].round(1)"
      ],
      "metadata": {
        "colab": {
          "base_uri": "https://localhost:8080/"
        },
        "id": "tAcxKbGBMdWF",
        "outputId": "5fa28023-4836-4963-c85b-e5fba1947479"
      },
      "execution_count": null,
      "outputs": [
        {
          "output_type": "execute_result",
          "data": {
            "text/plain": [
              "array([[ 2.4],\n",
              "       [38.7],\n",
              "       [ 5.2],\n",
              "       ...,\n",
              "       [-6. ],\n",
              "       [16. ],\n",
              "       [ 1.5]])"
            ]
          },
          "metadata": {},
          "execution_count": 74
        }
      ]
    },
    {
      "cell_type": "code",
      "source": [
        "plt.plot(np.squeeze(model.predict_on_batch(train['input'])), np.squeeze(train['target']))\n",
        "plt.xlabel('output')\n",
        "plt.ylabel('target')"
      ],
      "metadata": {
        "colab": {
          "base_uri": "https://localhost:8080/",
          "height": 299
        },
        "id": "zX_SjY63Mp6p",
        "outputId": "4c2c0f72-ae49-45b4-9745-cea42b00705d"
      },
      "execution_count": null,
      "outputs": [
        {
          "output_type": "execute_result",
          "data": {
            "text/plain": [
              "Text(0, 0.5, 'target')"
            ]
          },
          "metadata": {},
          "execution_count": 75
        },
        {
          "output_type": "display_data",
          "data": {
            "text/plain": [
              "<Figure size 432x288 with 1 Axes>"
            ],
            "image/png": "[encoded data removed]"
          },
          "metadata": {
            "needs_background": "light"
          }
        }
      ]
    },
    {
      "cell_type": "code",
      "source": [],
      "metadata": {
        "id": "j7ve2dkzNJ-q"
      },
      "execution_count": null,
      "outputs": []
    }
  ]
}